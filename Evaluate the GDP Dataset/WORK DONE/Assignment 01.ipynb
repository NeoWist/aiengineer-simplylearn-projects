{
 "cells": [
  {
   "cell_type": "markdown",
   "metadata": {},
   "source": [
    "<img src=\"http://cfs22.simplicdn.net/ice9/new_logo.svgz \"/>\n",
    "\n",
    "# Assignment 01: Evaluate the GDP Dataset\n",
    "\n",
    "*The comments/sections provided are your cues to perform the assignment. You don't need to limit yourself to the number of rows/cells provided. You can add additional rows in each section to add more lines of code.*\n",
    "\n",
    "*If at any point in time you need help on solving this assignment, view our demo video to understand the different steps of the code.*\n",
    "\n",
    "**Happy coding!**\n",
    "\n",
    "* * *"
   ]
  },
  {
   "cell_type": "markdown",
   "metadata": {},
   "source": [
    "#### 1: View and add the dataset"
   ]
  },
  {
   "cell_type": "code",
   "execution_count": 1,
   "metadata": {
    "tags": []
   },
   "outputs": [],
   "source": [
    "#Import required library\n",
    "import numpy as np"
   ]
  },
  {
   "cell_type": "code",
   "execution_count": 2,
   "metadata": {
    "tags": []
   },
   "outputs": [],
   "source": [
    "#Manually add the dataset\n",
    "country_name = np.array(['Algeria','Angola','Argentina','Australia','Austria','Bahamas',\n",
    "                         'Bangladesh','Belarus','Belgium','Bhutan','Brazil','Bulgaria',\n",
    "                         'Cambodia','Cameroon','Chile','China','Colombia','Cyprus','Denmark',\n",
    "                         'El Salvador','Estonia','Ethiopia','Fiji','Finland','France',\n",
    "                         'Georgia','Ghana','Grenada','Guinea','Haiti','Honduras','Hungary',\n",
    "                         'India','Indonesia','Ireland','Italy','Japan','Kenya', 'South Korea',\n",
    "                         'Liberia','Malaysia','Mexico', 'Morocco','Nepal','New Zealand',\n",
    "                         'Norway','Pakistan', 'Peru','Qatar','Russia','Singapore','South Africa',\n",
    "                         'Spain','Sweden','Switzerland','Thailand', 'United Arab Emirates',\n",
    "                         'United Kingdom','United States','Uruguay','Venezuela','Vietnam','Zimbabwe'])\n",
    "country_gdp = np.array([2255.225482,629.9553062,11601.63022,25306.82494,27266.40335,19466.99052,\n",
    "                        588.3691778,2890.345675,24733.62696,1445.760002,4803.398244,2618.876037,\n",
    "                        590.4521124,665.7982328,7122.938458,2639.54156,3362.4656,15378.16704,\n",
    "                        30860.12808,2579.115607,6525.541272,229.6769525,2242.689259,27570.4852,\n",
    "                        23016.84778,1334.646773,402.6953275,6047.200797,394.1156638,385.5793827,\n",
    "                        1414.072488,5745.981529,837.7464011,1206.991065,27715.52837,18937.24998,\n",
    "                        39578.07441,478.2194906,16684.21278,279.2204061,5345.213415,6288.25324,\n",
    "                        1908.304416,274.8728621,14646.42094,40034.85063,672.1547506,3359.517402,\n",
    "                        36152.66676,3054.727742,33529.83052,3825.093781,15428.32098,33630.24604,\n",
    "                        39170.41371,2699.123242,21058.43643,28272.40661,37691.02733,9581.05659,\n",
    "                        5671.912202,757.4009286,347.7456605])\n"
   ]
  },
  {
   "cell_type": "markdown",
   "metadata": {},
   "source": [
    "#### 2: Find and print the name of the country with the highest GDP"
   ]
  },
  {
   "cell_type": "code",
   "execution_count": 3,
   "metadata": {
    "jupyter": {
     "outputs_hidden": false
    }
   },
   "outputs": [],
   "source": [
    "#Use the argmax() method to find the highest GDP\n",
    "highest_gdp = country_gdp.argmax()"
   ]
  },
  {
   "cell_type": "code",
   "execution_count": 4,
   "metadata": {
    "tags": []
   },
   "outputs": [
    {
     "data": {
      "text/plain": [
       "'Norway'"
      ]
     },
     "execution_count": 4,
     "metadata": {},
     "output_type": "execute_result"
    }
   ],
   "source": [
    "#Print the name of the country\n",
    "highest_gdp_country = country_name[highest_gdp]\n",
    "highest_gdp_country"
   ]
  },
  {
   "cell_type": "markdown",
   "metadata": {},
   "source": [
    "#### 3: Find and print the name of the country with the lowest GDP"
   ]
  },
  {
   "cell_type": "code",
   "execution_count": 5,
   "metadata": {
    "tags": []
   },
   "outputs": [],
   "source": [
    "#Use the argmin() method to find the lowest GDP\n",
    "lowest_gdp = country_gdp.argmin()"
   ]
  },
  {
   "cell_type": "code",
   "execution_count": 6,
   "metadata": {
    "tags": []
   },
   "outputs": [
    {
     "data": {
      "text/plain": [
       "'Ethiopia'"
      ]
     },
     "execution_count": 6,
     "metadata": {},
     "output_type": "execute_result"
    }
   ],
   "source": [
    "#Print the name of the country\n",
    "lowest_gdp_country = country_name[lowest_gdp]\n",
    "lowest_gdp_country"
   ]
  },
  {
   "cell_type": "markdown",
   "metadata": {},
   "source": [
    "#### 4: Print out text ('evaluating country') and input value ('country name') iteratively"
   ]
  },
  {
   "cell_type": "code",
   "execution_count": 7,
   "metadata": {
    "jupyter": {
     "outputs_hidden": false
    }
   },
   "outputs": [
    {
     "name": "stdout",
     "output_type": "stream",
     "text": [
      "Evaluating Country Algeria\n",
      "Evaluating Country Angola\n",
      "Evaluating Country Argentina\n",
      "Evaluating Country Australia\n",
      "Evaluating Country Austria\n",
      "Evaluating Country Bahamas\n",
      "Evaluating Country Bangladesh\n",
      "Evaluating Country Belarus\n",
      "Evaluating Country Belgium\n",
      "Evaluating Country Bhutan\n",
      "Evaluating Country Brazil\n",
      "Evaluating Country Bulgaria\n",
      "Evaluating Country Cambodia\n",
      "Evaluating Country Cameroon\n",
      "Evaluating Country Chile\n",
      "Evaluating Country China\n",
      "Evaluating Country Colombia\n",
      "Evaluating Country Cyprus\n",
      "Evaluating Country Denmark\n",
      "Evaluating Country El Salvador\n",
      "Evaluating Country Estonia\n",
      "Evaluating Country Ethiopia\n",
      "Evaluating Country Fiji\n",
      "Evaluating Country Finland\n",
      "Evaluating Country France\n",
      "Evaluating Country Georgia\n",
      "Evaluating Country Ghana\n",
      "Evaluating Country Grenada\n",
      "Evaluating Country Guinea\n",
      "Evaluating Country Haiti\n",
      "Evaluating Country Honduras\n",
      "Evaluating Country Hungary\n",
      "Evaluating Country India\n",
      "Evaluating Country Indonesia\n",
      "Evaluating Country Ireland\n",
      "Evaluating Country Italy\n",
      "Evaluating Country Japan\n",
      "Evaluating Country Kenya\n",
      "Evaluating Country South Korea\n",
      "Evaluating Country Liberia\n",
      "Evaluating Country Malaysia\n",
      "Evaluating Country Mexico\n",
      "Evaluating Country Morocco\n",
      "Evaluating Country Nepal\n",
      "Evaluating Country New Zealand\n",
      "Evaluating Country Norway\n",
      "Evaluating Country Pakistan\n",
      "Evaluating Country Peru\n",
      "Evaluating Country Qatar\n",
      "Evaluating Country Russia\n",
      "Evaluating Country Singapore\n",
      "Evaluating Country South Africa\n",
      "Evaluating Country Spain\n",
      "Evaluating Country Sweden\n",
      "Evaluating Country Switzerland\n",
      "Evaluating Country Thailand\n",
      "Evaluating Country United Arab Emirates\n",
      "Evaluating Country United Kingdom\n",
      "Evaluating Country United States\n",
      "Evaluating Country Uruguay\n",
      "Evaluating Country Venezuela\n",
      "Evaluating Country Vietnam\n",
      "Evaluating Country Zimbabwe\n"
     ]
    }
   ],
   "source": [
    "#Use a for loop to print the required output\n",
    "for country in country_name:\n",
    "        print(\"Evaluating Country {}\".format(country))      \n"
   ]
  },
  {
   "cell_type": "markdown",
   "metadata": {},
   "source": [
    "#### 5: Print out the entire list of the countries with their GDPs"
   ]
  },
  {
   "cell_type": "code",
   "execution_count": 8,
   "metadata": {
    "jupyter": {
     "outputs_hidden": false
    }
   },
   "outputs": [
    {
     "name": "stdout",
     "output_type": "stream",
     "text": [
      "The country Algeria has a per capita GDP of 2255.225482\n",
      "The country Angola has a per capita GDP of 629.9553062\n",
      "The country Argentina has a per capita GDP of 11601.63022\n",
      "The country Australia has a per capita GDP of 25306.82494\n",
      "The country Austria has a per capita GDP of 27266.40335\n",
      "The country Bahamas has a per capita GDP of 19466.99052\n",
      "The country Bangladesh has a per capita GDP of 588.3691778\n",
      "The country Belarus has a per capita GDP of 2890.345675\n",
      "The country Belgium has a per capita GDP of 24733.62696\n",
      "The country Bhutan has a per capita GDP of 1445.760002\n",
      "The country Brazil has a per capita GDP of 4803.398244\n",
      "The country Bulgaria has a per capita GDP of 2618.876037\n",
      "The country Cambodia has a per capita GDP of 590.4521124\n",
      "The country Cameroon has a per capita GDP of 665.7982328\n",
      "The country Chile has a per capita GDP of 7122.938458\n",
      "The country China has a per capita GDP of 2639.54156\n",
      "The country Colombia has a per capita GDP of 3362.4656\n",
      "The country Cyprus has a per capita GDP of 15378.16704\n",
      "The country Denmark has a per capita GDP of 30860.12808\n",
      "The country El Salvador has a per capita GDP of 2579.115607\n",
      "The country Estonia has a per capita GDP of 6525.541272\n",
      "The country Ethiopia has a per capita GDP of 229.6769525\n",
      "The country Fiji has a per capita GDP of 2242.689259\n",
      "The country Finland has a per capita GDP of 27570.4852\n",
      "The country France has a per capita GDP of 23016.84778\n",
      "The country Georgia has a per capita GDP of 1334.646773\n",
      "The country Ghana has a per capita GDP of 402.6953275\n",
      "The country Grenada has a per capita GDP of 6047.200797\n",
      "The country Guinea has a per capita GDP of 394.1156638\n",
      "The country Haiti has a per capita GDP of 385.5793827\n",
      "The country Honduras has a per capita GDP of 1414.072488\n",
      "The country Hungary has a per capita GDP of 5745.981529\n",
      "The country India has a per capita GDP of 837.7464011\n",
      "The country Indonesia has a per capita GDP of 1206.991065\n",
      "The country Ireland has a per capita GDP of 27715.52837\n",
      "The country Italy has a per capita GDP of 18937.24998\n",
      "The country Japan has a per capita GDP of 39578.07441\n",
      "The country Kenya has a per capita GDP of 478.2194906\n",
      "The country South Korea has a per capita GDP of 16684.21278\n",
      "The country Liberia has a per capita GDP of 279.2204061\n",
      "The country Malaysia has a per capita GDP of 5345.213415\n",
      "The country Mexico has a per capita GDP of 6288.25324\n",
      "The country Morocco has a per capita GDP of 1908.304416\n",
      "The country Nepal has a per capita GDP of 274.8728621\n",
      "The country New Zealand has a per capita GDP of 14646.42094\n",
      "The country Norway has a per capita GDP of 40034.85063\n",
      "The country Pakistan has a per capita GDP of 672.1547506\n",
      "The country Peru has a per capita GDP of 3359.517402\n",
      "The country Qatar has a per capita GDP of 36152.66676\n",
      "The country Russia has a per capita GDP of 3054.727742\n",
      "The country Singapore has a per capita GDP of 33529.83052\n",
      "The country South Africa has a per capita GDP of 3825.093781\n",
      "The country Spain has a per capita GDP of 15428.32098\n",
      "The country Sweden has a per capita GDP of 33630.24604\n",
      "The country Switzerland has a per capita GDP of 39170.41371\n",
      "The country Thailand has a per capita GDP of 2699.123242\n",
      "The country United Arab Emirates has a per capita GDP of 21058.43643\n",
      "The country United Kingdom has a per capita GDP of 28272.40661\n",
      "The country United States has a per capita GDP of 37691.02733\n",
      "The country Uruguay has a per capita GDP of 9581.05659\n",
      "The country Venezuela has a per capita GDP of 5671.912202\n",
      "The country Vietnam has a per capita GDP of 757.4009286\n",
      "The country Zimbabwe has a per capita GDP of 347.7456605\n"
     ]
    }
   ],
   "source": [
    "#Use a for loop to print the required list\n",
    "for i in range(len(country_name)):\n",
    "    country = country_name[i]\n",
    "    gdp = country_gdp[i]\n",
    "    print(\"The country {} has a per capita GDP of {}\".format(country,gdp))"
   ]
  },
  {
   "cell_type": "markdown",
   "metadata": {},
   "source": [
    "#### 6: Print the following:\n",
    "1. Highest GPD value\n",
    "2. Lowest GDP value\n",
    "3. Mean GDP value\n",
    "4. Standardized GDP value\n",
    "5. Sum of all the GDPs"
   ]
  },
  {
   "cell_type": "code",
   "execution_count": 9,
   "metadata": {},
   "outputs": [
    {
     "name": "stdout",
     "output_type": "stream",
     "text": [
      "Highest GDP is: 40034.85063\n",
      "Lowest GDP is: 229.6769525\n",
      "Mean GDP is: 11289.409271639683\n",
      "Sum of GDP is: 12743.828910617945\n",
      "Sum of GDP is: 711232.7841133\n"
     ]
    }
   ],
   "source": [
    "print(\"Highest GDP is: {}\".format(country_gdp.max()))\n",
    "print(\"Lowest GDP is: {}\".format(country_gdp.min()))\n",
    "print(\"Mean GDP is: {}\".format(country_gdp.mean()))\n",
    "print(\"Sum of GDP is: {}\".format(country_gdp.std()))\n",
    "print(\"Sum of GDP is: {}\".format(country_gdp.sum()))"
   ]
  },
  {
   "cell_type": "code",
   "execution_count": null,
   "metadata": {},
   "outputs": [],
   "source": []
  },
  {
   "cell_type": "code",
   "execution_count": null,
   "metadata": {},
   "outputs": [],
   "source": []
  }
 ],
 "metadata": {
  "kernelspec": {
   "display_name": "Python 3",
   "language": "python",
   "name": "python3"
  },
  "language_info": {
   "codemirror_mode": {
    "name": "ipython",
    "version": 3
   },
   "file_extension": ".py",
   "mimetype": "text/x-python",
   "name": "python",
   "nbconvert_exporter": "python",
   "pygments_lexer": "ipython3",
   "version": "3.8.8"
  }
 },
 "nbformat": 4,
 "nbformat_minor": 4
}

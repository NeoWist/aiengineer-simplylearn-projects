{
 "cells": [
  {
   "cell_type": "code",
   "execution_count": 3,
   "id": "b5522918-82a4-4be0-886f-c7fe59b5d5ef",
   "metadata": {},
   "outputs": [],
   "source": [
    "#import library and random smple generator as dataset\n",
    "from sklearn.decomposition import PCA\n",
    "from sklearn.datasets import make_blobs"
   ]
  },
  {
   "cell_type": "code",
   "execution_count": 5,
   "id": "4c1c7563-1b87-4aba-8b7e-50c85a64e881",
   "metadata": {},
   "outputs": [],
   "source": [
    "#define sample and dataset\n",
    "n_sample = 20\n",
    "random_state = 20"
   ]
  },
  {
   "cell_type": "code",
   "execution_count": 8,
   "id": "c629d28b-3321-4f43-b5b1-11014dc58de5",
   "metadata": {},
   "outputs": [],
   "source": [
    "#generate the dataset with 10 features (dimension)\n",
    "X,y = make_blobs(n_samples=n_sample, n_features=10, random_state=None)"
   ]
  },
  {
   "cell_type": "code",
   "execution_count": 9,
   "id": "014a0ca0-8227-4dd1-af9f-a316d5da6a84",
   "metadata": {},
   "outputs": [
    {
     "data": {
      "text/plain": [
       "(20, 10)"
      ]
     },
     "execution_count": 9,
     "metadata": {},
     "output_type": "execute_result"
    }
   ],
   "source": [
    "#view the dataset\n",
    "X.shape"
   ]
  },
  {
   "cell_type": "code",
   "execution_count": 10,
   "id": "b9c2409d-e139-4648-ae83-4c05b5e47e65",
   "metadata": {},
   "outputs": [],
   "source": [
    "#define the PCA estimator with number of reduced components\n",
    "pca= PCA(n_components=3)"
   ]
  },
  {
   "cell_type": "code",
   "execution_count": 12,
   "id": "2411f14a-3822-49f5-8a80-9b4c831dbbc6",
   "metadata": {},
   "outputs": [
    {
     "name": "stdout",
     "output_type": "stream",
     "text": [
      "[0.62693987 0.34007386 0.00879798]\n"
     ]
    }
   ],
   "source": [
    " #fit the data into thePC estimator\n",
    "pca.fit(X)\n",
    "print (pca.explained_variance_ratio_)"
   ]
  },
  {
   "cell_type": "code",
   "execution_count": 14,
   "id": "b9fd909b-7dcc-4090-9872-7a3cf481b85b",
   "metadata": {},
   "outputs": [
    {
     "name": "stdout",
     "output_type": "stream",
     "text": [
      "[-0.68128903 -0.36099693 -0.28866152 -0.13722703 -0.00759705  0.3048363\n",
      "  0.23758975  0.30679828  0.23570464  0.06523882]\n"
     ]
    }
   ],
   "source": [
    "#prit the first pca component\n",
    "first_pca = pca.components_[0]\n",
    "print( first_pca)"
   ]
  },
  {
   "cell_type": "code",
   "execution_count": 15,
   "id": "f13d46aa-5c1f-4715-b0b7-023e6efe6ac1",
   "metadata": {},
   "outputs": [],
   "source": [
    "#transform the fitted data using transform method\n",
    "pca_reduced =pca.transform(X)"
   ]
  },
  {
   "cell_type": "code",
   "execution_count": 17,
   "id": "481cd6af-f350-4319-afbd-4641076a27c5",
   "metadata": {},
   "outputs": [
    {
     "data": {
      "text/plain": [
       "(20, 3)"
      ]
     },
     "execution_count": 17,
     "metadata": {},
     "output_type": "execute_result"
    }
   ],
   "source": [
    "#view the reduced shape(lower dimension)\n",
    "pca_reduced.shape"
   ]
  },
  {
   "cell_type": "code",
   "execution_count": null,
   "id": "99124289-727d-4a5a-bf65-cffd7b898f3f",
   "metadata": {},
   "outputs": [],
   "source": []
  }
 ],
 "metadata": {
  "kernelspec": {
   "display_name": "Python 3 (ipykernel)",
   "language": "python",
   "name": "python3"
  },
  "language_info": {
   "codemirror_mode": {
    "name": "ipython",
    "version": 3
   },
   "file_extension": ".py",
   "mimetype": "text/x-python",
   "name": "python",
   "nbconvert_exporter": "python",
   "pygments_lexer": "ipython3",
   "version": "3.10.2"
  }
 },
 "nbformat": 4,
 "nbformat_minor": 5
}

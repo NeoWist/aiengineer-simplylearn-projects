{
 "cells": [
  {
   "cell_type": "markdown",
   "metadata": {},
   "source": [
    "<img src=\"http://cfs22.simplicdn.net/ice9/new_logo.svgz \"/>\n",
    "\n",
    "# Assignment 02: Evaluate the Summer Olympics, London 2012 dataset\n",
    "\n",
    "*The comments/sections provided are your cues to perform the assignment. You don't need to limit yourself to the number of rows/cells provided. You can add additional rows in each section to add more lines of code.*\n",
    "\n",
    "*If at any point in time you need help on solving this assignment, view our demo video to understand the different steps of the code.*\n",
    "\n",
    "**Happy coding!**\n",
    "\n",
    "* * *"
   ]
  },
  {
   "cell_type": "markdown",
   "metadata": {},
   "source": [
    "#### 1: View and add the dataset"
   ]
  },
  {
   "cell_type": "code",
   "execution_count": 1,
   "metadata": {},
   "outputs": [],
   "source": [
    "#Import the necessary library\n",
    "import numpy as np"
   ]
  },
  {
   "cell_type": "code",
   "execution_count": 2,
   "metadata": {},
   "outputs": [
    {
     "name": "stdout",
     "output_type": "stream",
     "text": [
      "[['Great Britain' 'GBR' '2012' '29' '17' '19']\n",
      " ['China' 'CHN' '2012' '38' '28' '22']\n",
      " ['Russia' 'RUS' '2012' '24' '25' '32']\n",
      " ['United States' 'US' '2012' '46' '28' '29']\n",
      " ['Korea' 'KOR' '2012' '13' '8' '7']\n",
      " ['Japan' 'JPN' '2012' '7' '14' '17']\n",
      " ['Germany' 'GER' '2012' '11' '11' '14']]\n"
     ]
    }
   ],
   "source": [
    "#Manually add the Summer Olympics, London 2012 dataset as arrays\n",
    "medal_tally = np.array([['Great Britain', 'GBR', 2012, 29, 17, 19],\n",
    "                        ['China', 'CHN', 2012, 38, 28, 22],\n",
    "                        ['Russia', 'RUS', 2012, 24, 25, 32],\n",
    "                        ['United States', 'US', 2012, 46, 28, 29],\n",
    "                        ['Korea', 'KOR', 2012, 13, 8, 7],\n",
    "                        ['Japan', 'JPN', 2012, 7, 14, 17],\n",
    "                        ['Germany', 'GER', 2012, 11, 11, 14]\n",
    "                       ])\n",
    "country_name = np.array(['Great Britain', 'China', 'Russia', 'United States', 'Korea', 'Japan', 'Germany'])\n",
    "country_code = np.array(['GBR', 'CHN', 'RUS', 'US', 'KOR', 'JPN', 'GER'])\n",
    "gold_list    = np.array([ 29, 38, 24, 46, 13, 7, 11 ])\n",
    "silver_list  = np.array([ 17, 28, 25, 28, 8, 14, 11 ])\n",
    "bronze_list  = np.array([ 19, 22, 32, 29, 7, 17, 14 ])\n",
    "print(medal_tally)"
   ]
  },
  {
   "cell_type": "markdown",
   "metadata": {},
   "source": [
    "#### Find the country with maximum gold medals"
   ]
  },
  {
   "cell_type": "code",
   "execution_count": 3,
   "metadata": {},
   "outputs": [
    {
     "name": "stdout",
     "output_type": "stream",
     "text": [
      "3\n",
      "46\n"
     ]
    }
   ],
   "source": [
    "#Use the argmax() method to find the highest number of gold medals\n",
    "max_gold_index = gold_list.argmax()\n",
    "print(max_gold_index)\n",
    "max_gold_no = gold_list[max_gold_index]\n",
    "print(max_gold_no)"
   ]
  },
  {
   "cell_type": "code",
   "execution_count": 4,
   "metadata": {},
   "outputs": [
    {
     "name": "stdout",
     "output_type": "stream",
     "text": [
      "Country with highest no. of Gold medal is:  United States\n"
     ]
    }
   ],
   "source": [
    "#Print the name of the country\n",
    "max_gold_country = country_name[max_gold_index]\n",
    "print('Country with highest no. of Gold medal is: ', max_gold_country)"
   ]
  },
  {
   "cell_type": "markdown",
   "metadata": {},
   "source": [
    "#### Find the countries with more than 20 gold medals"
   ]
  },
  {
   "cell_type": "code",
   "execution_count": 5,
   "metadata": {},
   "outputs": [
    {
     "name": "stdout",
     "output_type": "stream",
     "text": [
      "['Great Britain' 'China' 'Russia' 'United States']\n"
     ]
    }
   ],
   "source": [
    "#Use Boolean indexing technique to find the required output\n",
    "gold_morethan_20_boolindex = gold_list>20\n",
    "country_gold_morethan_20 = country_name[gold_morethan_20_boolindex == True]\n",
    "print(country_gold_morethan_20)"
   ]
  },
  {
   "cell_type": "markdown",
   "metadata": {},
   "source": [
    "#### Evaluate the dataset and print the name of each country with its gold medals and total number of medals"
   ]
  },
  {
   "cell_type": "code",
   "execution_count": 6,
   "metadata": {},
   "outputs": [
    {
     "name": "stdout",
     "output_type": "stream",
     "text": [
      "Great Britain : Gold = 29 , Total =  65\n",
      "China : Gold = 38 , Total =  88\n",
      "Russia : Gold = 24 , Total =  81\n",
      "United States : Gold = 46 , Total =  103\n",
      "Korea : Gold = 13 , Total =  28\n",
      "Japan : Gold = 7 , Total =  38\n",
      "Germany : Gold = 11 , Total =  36\n"
     ]
    }
   ],
   "source": [
    "#Use a for loop to create the required output\n",
    "for i in range(len(country_name)):\n",
    "    country = country_name[i]\n",
    "    gold = gold_list[i]\n",
    "    total = gold_list[i] + silver_list[i] + bronze_list[i] \n",
    "    print(country,': Gold =', gold, ', Total = ', total)"
   ]
  },
  {
   "cell_type": "code",
   "execution_count": null,
   "metadata": {},
   "outputs": [],
   "source": []
  }
 ],
 "metadata": {
  "kernelspec": {
   "display_name": "Python 3 (ipykernel)",
   "language": "python",
   "name": "python3"
  },
  "language_info": {
   "codemirror_mode": {
    "name": "ipython",
    "version": 3
   },
   "file_extension": ".py",
   "mimetype": "text/x-python",
   "name": "python",
   "nbconvert_exporter": "python",
   "pygments_lexer": "ipython3",
   "version": "3.10.0"
  }
 },
 "nbformat": 4,
 "nbformat_minor": 1
}

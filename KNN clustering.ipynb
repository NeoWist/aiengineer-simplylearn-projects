{
 "cells": [
  {
   "cell_type": "code",
   "execution_count": 1,
   "id": "cc7610ca-92e0-425d-a7df-66a701bd7cca",
   "metadata": {},
   "outputs": [],
   "source": [
    "#import required libraries\n",
    "import numpy as np\n",
    "#import KMeans class \n",
    "from sklearn.cluster import KMeans\n",
    "from sklearn.datasets import make_blobs"
   ]
  },
  {
   "cell_type": "code",
   "execution_count": 2,
   "id": "8bdf33b1-7158-47d5-a304-897f6807a537",
   "metadata": {},
   "outputs": [
    {
     "data": {
      "text/plain": [
       "array([0, 2, 2, 2, 1, 1, 1, 1, 2, 1, 0, 2, 0, 1, 2, 0, 1, 0, 0, 0, 0, 1,\n",
       "       1, 1, 1, 2, 1, 1, 0, 0, 1, 2, 2, 2, 1, 0, 2, 0, 1, 1, 0, 2, 1, 2,\n",
       "       2, 2, 0, 1, 0, 2, 0, 2, 2, 2, 2, 2, 1, 2, 1, 2, 1, 0, 0, 2, 2, 2,\n",
       "       1, 2, 2, 0, 2, 0, 0, 2, 1, 0, 2, 1, 2, 2, 2, 0, 0, 1, 2, 0, 0, 2,\n",
       "       2, 2, 1, 0, 0, 0, 1, 2, 1, 0, 2, 2, 0, 0, 1, 1, 0, 1, 1, 1, 0, 2,\n",
       "       0, 0, 2, 1, 0, 0, 2, 1, 1, 0, 0, 0, 2, 1, 1, 2, 1, 2, 0, 1, 0, 0,\n",
       "       0, 2, 2, 2, 0, 0, 2, 2, 2, 2, 2, 2, 1, 1, 0, 1, 1, 1, 1, 0, 0, 1,\n",
       "       1, 2, 0, 0, 2, 1, 1, 0, 1, 0, 1, 2, 2, 1, 2, 2, 0, 0, 0, 1, 1, 0,\n",
       "       1, 1, 0, 0, 0, 1, 2, 1, 0, 1, 2, 2, 1, 1, 2, 2, 1, 2, 1, 0, 1, 2,\n",
       "       2, 2, 2, 0, 1, 0, 1, 1, 1, 0, 2, 2, 1, 0, 2, 0, 2, 1, 2, 2, 1, 2,\n",
       "       0, 0, 2, 2, 1, 1, 0, 1, 2, 0, 1, 1, 0, 1, 1, 1, 1, 0, 2, 0, 1, 1,\n",
       "       2, 0, 2, 2, 2, 1, 0, 1, 0, 0, 2, 2, 2, 0, 1, 0, 0, 2, 0, 1, 1, 0,\n",
       "       2, 2, 1, 2, 1, 2, 2, 0, 1, 1, 0, 0, 0, 1, 0, 1, 0, 0, 2, 0, 1, 1,\n",
       "       0, 1, 0, 1, 2, 0, 2, 0, 1, 0, 2, 0, 0, 0])"
      ]
     },
     "execution_count": 2,
     "metadata": {},
     "output_type": "execute_result"
    }
   ],
   "source": [
    "n_samples =300 #no. of samples\n",
    "random_state =20 #ramdom state value to initialize center\n",
    "X,y=make_blobs(n_samples = n_samples, n_features=5,random_state=None)  #define no. of features as 5\n",
    "predict_y =KMeans(n_clusters=3,random_state=random_state).fit_predict(X) #define no of clusters to form a 3 and in random state and fit features into model\n",
    "predict_y\n",
    "\n"
   ]
  },
  {
   "cell_type": "code",
   "execution_count": null,
   "id": "15d7e0de-7f3f-43b5-b659-4505a76b7fa5",
   "metadata": {},
   "outputs": [],
   "source": []
  }
 ],
 "metadata": {
  "kernelspec": {
   "display_name": "Python 3 (ipykernel)",
   "language": "python",
   "name": "python3"
  },
  "language_info": {
   "codemirror_mode": {
    "name": "ipython",
    "version": 3
   },
   "file_extension": ".py",
   "mimetype": "text/x-python",
   "name": "python",
   "nbconvert_exporter": "python",
   "pygments_lexer": "ipython3",
   "version": "3.10.2"
  }
 },
 "nbformat": 4,
 "nbformat_minor": 5
}

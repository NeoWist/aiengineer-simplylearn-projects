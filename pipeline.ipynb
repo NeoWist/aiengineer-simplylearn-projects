{
 "cells": [
  {
   "cell_type": "code",
   "execution_count": 1,
   "id": "b8d98e48-ab54-44ac-935b-732de7d2cfac",
   "metadata": {},
   "outputs": [],
   "source": [
    "#import pipeline class\n",
    "from sklearn.pipeline import Pipeline\n",
    "\n",
    "#import linear estimator\n",
    "from sklearn.linear_model import LinearRegression\n",
    "\n",
    "#import PCA estimator for dimensionality reduction\n",
    "from sklearn.decomposition import PCA"
   ]
  },
  {
   "cell_type": "code",
   "execution_count": 2,
   "id": "f21d30ad-155d-4c84-8e5d-4ebe518602bf",
   "metadata": {},
   "outputs": [],
   "source": [
    " #chain the estimator together\n",
    "estimator = [('dim_reduction',PCA()),('linearmodel',LinearRegression())]"
   ]
  },
  {
   "cell_type": "code",
   "execution_count": 3,
   "id": "db4751dd-0916-4f94-a0fb-cdf31f60000f",
   "metadata": {},
   "outputs": [],
   "source": [
    "#put the chain of estimators in a pipeline object\n",
    "pipeline_estimator= Pipeline(estimator)"
   ]
  },
  {
   "cell_type": "code",
   "execution_count": 4,
   "id": "5164e0ac-7935-4fa4-9a59-a79cfe0f0e80",
   "metadata": {},
   "outputs": [
    {
     "data": {
      "text/plain": [
       "Pipeline(steps=[('dim_reduction', PCA()), ('linearmodel', LinearRegression())])"
      ]
     },
     "execution_count": 4,
     "metadata": {},
     "output_type": "execute_result"
    }
   ],
   "source": [
    "#check the chain of estimators\n",
    "pipeline_estimator"
   ]
  },
  {
   "cell_type": "code",
   "execution_count": 5,
   "id": "73a94c15-1b7e-401a-b64f-31d236262c3d",
   "metadata": {},
   "outputs": [
    {
     "data": {
      "text/plain": [
       "('dim_reduction', PCA())"
      ]
     },
     "execution_count": 5,
     "metadata": {},
     "output_type": "execute_result"
    }
   ],
   "source": [
    "#view first step\n",
    "pipeline_estimator.steps[0]"
   ]
  },
  {
   "cell_type": "code",
   "execution_count": 6,
   "id": "c4a9d021-537a-4f4a-ad4c-c320434ebbc5",
   "metadata": {},
   "outputs": [
    {
     "data": {
      "text/plain": [
       "('linearmodel', LinearRegression())"
      ]
     },
     "execution_count": 6,
     "metadata": {},
     "output_type": "execute_result"
    }
   ],
   "source": [
    "#view second step\n",
    "pipeline_estimator.steps[1]"
   ]
  },
  {
   "cell_type": "code",
   "execution_count": 7,
   "id": "1f90c644-c1b3-4e69-8782-ce96ba9a64a4",
   "metadata": {},
   "outputs": [
    {
     "data": {
      "text/plain": [
       "[('dim_reduction', PCA()), ('linearmodel', LinearRegression())]"
      ]
     },
     "execution_count": 7,
     "metadata": {},
     "output_type": "execute_result"
    }
   ],
   "source": [
    "#view all the steps in pipeline\n",
    "pipeline_estimator.steps"
   ]
  },
  {
   "cell_type": "code",
   "execution_count": null,
   "id": "f17e7ce2-779e-4c21-b1e6-29077c1a8e37",
   "metadata": {},
   "outputs": [],
   "source": []
  }
 ],
 "metadata": {
  "kernelspec": {
   "display_name": "Python 3 (ipykernel)",
   "language": "python",
   "name": "python3"
  },
  "language_info": {
   "codemirror_mode": {
    "name": "ipython",
    "version": 3
   },
   "file_extension": ".py",
   "mimetype": "text/x-python",
   "name": "python",
   "nbconvert_exporter": "python",
   "pygments_lexer": "ipython3",
   "version": "3.10.2"
  }
 },
 "nbformat": 4,
 "nbformat_minor": 5
}

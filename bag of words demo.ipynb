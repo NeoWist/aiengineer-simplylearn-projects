{
 "cells": [
  {
   "cell_type": "code",
   "execution_count": null,
   "id": "e40692a1-7b19-426a-8e1f-644642c43f6d",
   "metadata": {},
   "outputs": [],
   "source": [
    "#import the required library\n",
    "from sklearn.feature_extraction.text import CountVectorizer"
   ]
  },
  {
   "cell_type": "code",
   "execution_count": null,
   "id": "432c9030-312a-461b-b70a-f67b57d4aba0",
   "metadata": {},
   "outputs": [],
   "source": [
    "#instantiate the vectorizer\n",
    "vectorizer = CountVectorizer()"
   ]
  },
  {
   "cell_type": "code",
   "execution_count": null,
   "id": "5d562d78-9ed5-4adf-ac5e-d8710e9e4b63",
   "metadata": {},
   "outputs": [],
   "source": [
    "#create 3 Documents\n",
    "document1= 'Hi How are you'\n",
    "document2= 'today is a very very pleasent day and we can have some fun fun fun'\n",
    "document3= 'This was an amazing experience'"
   ]
  },
  {
   "cell_type": "code",
   "execution_count": null,
   "id": "9143936f-8f30-40f9-926e-904a0f6d14c1",
   "metadata": {},
   "outputs": [],
   "source": [
    "#put them together\n",
    "listofdocuments = [document1,document2,document3]"
   ]
  },
  {
   "cell_type": "code",
   "execution_count": null,
   "id": "745447b1-a99d-4030-ac17-6f28dcabf946",
   "metadata": {},
   "outputs": [],
   "source": [
    "#fit them as bag of words \n",
    "bag_of_words = vectorizer.fit(listofdocuments)"
   ]
  },
  {
   "cell_type": "code",
   "execution_count": null,
   "id": "a432cd7c-b363-4d89-be49-a096409a44d5",
   "metadata": {},
   "outputs": [],
   "source": [
    "#check the bag of words\n",
    "bag_of_words"
   ]
  },
  {
   "cell_type": "code",
   "execution_count": null,
   "id": "068bf2db-887f-4752-b164-ae5e5e6ac387",
   "metadata": {},
   "outputs": [],
   "source": [
    "#apply transform method\n",
    "bag_of_words= vectorizer.transform(listofdocuments)"
   ]
  },
  {
   "cell_type": "code",
   "execution_count": null,
   "id": "647d9779-fd7f-4108-abbb-c3237b47d4e9",
   "metadata": {},
   "outputs": [],
   "source": [
    "#print bag of words\n",
    "print(bag_of_words)"
   ]
  },
  {
   "cell_type": "code",
   "execution_count": null,
   "id": "ff2d8eae-0ace-4bfb-8759-871911736030",
   "metadata": {},
   "outputs": [],
   "source": [
    "# verify the vocabulary for repeated word\n",
    "print(vectorizer.vocabulary_.get('very'))\n",
    "print(vectorizer.vocabulary_.get('fun'))"
   ]
  },
  {
   "cell_type": "code",
   "execution_count": null,
   "id": "438c401d-0c94-4fdf-86e3-a1b5458a5859",
   "metadata": {},
   "outputs": [],
   "source": [
    "#check the type of bag of words\n",
    "type(bag_of_words)"
   ]
  },
  {
   "cell_type": "code",
   "execution_count": null,
   "id": "b6893458-47c3-4ca3-b275-a3f43cac23d4",
   "metadata": {},
   "outputs": [],
   "source": []
  }
 ],
 "metadata": {
  "kernelspec": {
   "display_name": "Python 3 (ipykernel)",
   "language": "python",
   "name": "python3"
  },
  "language_info": {
   "codemirror_mode": {
    "name": "ipython",
    "version": 3
   },
   "file_extension": ".py",
   "mimetype": "text/x-python",
   "name": "python",
   "nbconvert_exporter": "python",
   "pygments_lexer": "ipython3",
   "version": "3.10.4"
  }
 },
 "nbformat": 4,
 "nbformat_minor": 5
}
